{
 "cells": [
  {
   "cell_type": "code",
   "execution_count": null,
   "metadata": {},
   "outputs": [],
   "source": [
    "import numpy as np\n",
    "import pandas as pd\n",
    "\n",
    "df = pd.read_excel(\"C:/0.ITStudy/0.dataset/530118_19437.xls\", sheet_name='Sheet0')\n",
    "print(df.head())"
   ]
  },
  {
   "cell_type": "code",
   "execution_count": null,
   "metadata": {},
   "outputs": [],
   "source": [
    "df.columns"
   ]
  },
  {
   "cell_type": "code",
   "execution_count": null,
   "metadata": {},
   "outputs": [],
   "source": [
    "len(df.columns)"
   ]
  },
  {
   "cell_type": "code",
   "execution_count": null,
   "metadata": {},
   "outputs": [],
   "source": [
    "column_df = pd.DataFrame(np.array(['어휘', '구성 단위', '고유어 여부', '로마자', '로마자-글자', '로마자-소리', '원어', '어원', '발음',\n",
    "       '활용', '검색용 이형태', '품사', '의미 번호', '뜻풀이', '방언 지역', '문형', '문법', '범주', '용례',\n",
    "       '전문 분야', '관련 어휘', '속담', '관용구', '대역어', '생물 분류군 정보', '역사 정보', '수어 정보',\n",
    "       '규범 정보', '다중 매체(멀티미디어) 정보', 'NaN']).reshape(5,6))\n",
    "column_df"
   ]
  },
  {
   "cell_type": "code",
   "execution_count": null,
   "metadata": {
    "scrolled": true
   },
   "outputs": [],
   "source": [
    "df.shape"
   ]
  },
  {
   "cell_type": "code",
   "execution_count": null,
   "metadata": {},
   "outputs": [],
   "source": [
    "df.columns[0]"
   ]
  },
  {
   "cell_type": "code",
   "execution_count": null,
   "metadata": {},
   "outputs": [],
   "source": [
    "df.columns = [np.arange(0,29,1)]\n",
    "df"
   ]
  },
  {
   "cell_type": "code",
   "execution_count": null,
   "metadata": {},
   "outputs": [],
   "source": [
    "df.drop([3,4,5,10,15,16,19,21,22,23,24,25,26,27,28], axis=1, inplace=True)"
   ]
  },
  {
   "cell_type": "code",
   "execution_count": null,
   "metadata": {},
   "outputs": [],
   "source": [
    "df.drop([13, 14, 18], axis=1, inplace=True)"
   ]
  },
  {
   "cell_type": "code",
   "execution_count": null,
   "metadata": {},
   "outputs": [],
   "source": [
    "df.drop([9, 12,17,20], axis=1, inplace=True)"
   ]
  },
  {
   "cell_type": "code",
   "execution_count": null,
   "metadata": {},
   "outputs": [],
   "source": [
    "df.drop([2], axis=1, inplace=True)"
   ]
  },
  {
   "cell_type": "code",
   "execution_count": null,
   "metadata": {},
   "outputs": [],
   "source": [
    "df.drop([2], axis=1, inplace=True)"
   ]
  },
  {
   "cell_type": "code",
   "execution_count": null,
   "metadata": {
    "scrolled": true
   },
   "outputs": [],
   "source": [
    "df"
   ]
  },
  {
   "cell_type": "code",
   "execution_count": null,
   "metadata": {},
   "outputs": [],
   "source": [
    "df.fillna('', inplace=True)\n",
    "df"
   ]
  },
  {
   "cell_type": "code",
   "execution_count": null,
   "metadata": {},
   "outputs": [],
   "source": [
    "pd.unique(pd.Series(df.iloc[:,-1]))"
   ]
  },
  {
   "cell_type": "code",
   "execution_count": null,
   "metadata": {},
   "outputs": [],
   "source": [
    "df.to_csv('C:\\\\0.ITStudy\\\\0.dataset\\\\csv\\\\다.csv')"
   ]
  },
  {
   "cell_type": "code",
   "execution_count": null,
   "metadata": {},
   "outputs": [],
   "source": [
    "df.shape"
   ]
  },
  {
   "cell_type": "code",
   "execution_count": null,
   "metadata": {},
   "outputs": [],
   "source": [
    "end_list = ['다', '나', '라', '자', '네', '가', '구먼', '게', '세', '오', '구려', '까', '시오', '시다', '요', '않']"
   ]
  },
  {
   "cell_type": "code",
   "execution_count": null,
   "metadata": {},
   "outputs": [],
   "source": [
    "df = pd.read_excel(\"C:/0.ITStudy/0.dataset/다.xls\".format(i), sheet_name='Sheet0')"
   ]
  },
  {
   "cell_type": "code",
   "execution_count": null,
   "metadata": {},
   "outputs": [],
   "source": [
    "df"
   ]
  },
  {
   "cell_type": "code",
   "execution_count": null,
   "metadata": {},
   "outputs": [],
   "source": [
    "df.drop(['동형어 번호', '구분', '뜻풀이', '용례'], axis=1, inplace=True)"
   ]
  },
  {
   "cell_type": "code",
   "execution_count": null,
   "metadata": {
    "scrolled": true
   },
   "outputs": [],
   "source": [
    "df"
   ]
  },
  {
   "cell_type": "code",
   "execution_count": null,
   "metadata": {},
   "outputs": [],
   "source": [
    "df.fillna('', inplace=True)\n",
    "df"
   ]
  },
  {
   "cell_type": "code",
   "execution_count": null,
   "metadata": {},
   "outputs": [],
   "source": [
    "df.to_csv('C:\\\\0.ITStudy\\\\0.dataset\\\\csv\\\\korean_base\\\\다.csv')"
   ]
  },
  {
   "cell_type": "code",
   "execution_count": null,
   "metadata": {},
   "outputs": [],
   "source": [
    "df = pd.read_excel(\"C:/0.ITStudy/0.dataset/나.xls\", sheet_name='Sheet0')\n",
    "df"
   ]
  },
  {
   "cell_type": "code",
   "execution_count": null,
   "metadata": {},
   "outputs": [],
   "source": [
    "end_list = ['나', '라', '자', '네', '가', '구먼', '게', '세', '오', '구려', '까', '시오', '시다', '요', '않']\n",
    "for i in end_list:\n",
    "    word = re.sub(\"'\", '', i)\n",
    "    df = pd.read_excel(\"C:/0.ITStudy/0.dataset/{}.xls\".format(word), sheet_name='Sheet0')\n",
    "    df.drop(['동형어 번호', '구분', '뜻풀이', '용례'], axis=1, inplace=True)\n",
    "    df.fillna('', inplace=True)\n",
    "    df.to_csv('C:\\\\0.ITStudy\\\\0.dataset\\\\csv\\\\korean_base\\\\{}.csv'.format(word))\n",
    "    "
   ]
  },
  {
   "cell_type": "code",
   "execution_count": null,
   "metadata": {},
   "outputs": [],
   "source": [
    "import re\n",
    "end_list = ['다', '나', '라', '자', '네', '가', '구먼', '게', '세', '오', '구려', '까', '시오', '시다', '요', '않']\n",
    "print(re.sub(\"'\", '', end_list[0]))"
   ]
  },
  {
   "cell_type": "code",
   "execution_count": null,
   "metadata": {
    "scrolled": true
   },
   "outputs": [],
   "source": [
    "import numpy as np\n",
    "import pandas as pd\n",
    "df = pd.read_excel(\"C:/0.ITStudy/0.dataset/가.xls\", sheet_name='Sheet0')\n",
    "df.drop(['동형어 번호', '구분', '뜻풀이', '용례'], axis=1, inplace=True)\n",
    "df.fillna('', inplace=True)"
   ]
  },
  {
   "cell_type": "code",
   "execution_count": null,
   "metadata": {},
   "outputs": [],
   "source": [
    "df"
   ]
  },
  {
   "cell_type": "code",
   "execution_count": null,
   "metadata": {},
   "outputs": [],
   "source": [
    "import re\n",
    "for i in range(353):\n",
    "    df.iloc[i, 0] = re.sub('-ㄴ', '', df.iloc[i, 0])\n",
    "    df.iloc[i, 2] = re.sub(\"ː\", '', df.iloc[i, 2])\n",
    "    df.iloc[i, 0] = re.sub('-', '', df.iloc[i, 0])"
   ]
  },
  {
   "cell_type": "code",
   "execution_count": null,
   "metadata": {},
   "outputs": [],
   "source": [
    "df"
   ]
  },
  {
   "cell_type": "code",
   "execution_count": null,
   "metadata": {},
   "outputs": [],
   "source": [
    "unique_list = []\n",
    "no = []\n",
    "for i in range(353):\n",
    "    if df.loc[i,'표제어'] in unique_list:\n",
    "        no.append(i)\n",
    "        continue\n",
    "    else:\n",
    "        unique_list.append(df.loc[i,'표제어'])\n",
    "print(no)"
   ]
  },
  {
   "cell_type": "code",
   "execution_count": null,
   "metadata": {},
   "outputs": [],
   "source": [
    "df.drop(no, axis=0, inplace=True)"
   ]
  },
  {
   "cell_type": "code",
   "execution_count": null,
   "metadata": {},
   "outputs": [],
   "source": [
    "df"
   ]
  },
  {
   "cell_type": "code",
   "execution_count": null,
   "metadata": {},
   "outputs": [],
   "source": [
    "df.reset_index(drop=True, inplace=True)\n",
    "df"
   ]
  },
  {
   "cell_type": "code",
   "execution_count": null,
   "metadata": {},
   "outputs": [],
   "source": [
    "for i in range(315):\n",
    "    if '/' in df.loc[i,'발음']:\n",
    "        pron = df.loc[i,'발음'].split('/')\n",
    "        df.loc[i,'발음'] = ''\n",
    "        for j in pron:\n",
    "            if df.loc[i,'표제어']==j:\n",
    "                continue\n",
    "            else:\n",
    "                df.loc[i,'발음'] = df.loc[i,'발음']+'/'+j\n",
    "        continue\n",
    "    else:\n",
    "        if df.loc[i,'표제어']==df.loc[i,'발음']:\n",
    "             df.loc[i,'발음'] = ''\n",
    "        else:\n",
    "            continue"
   ]
  },
  {
   "cell_type": "code",
   "execution_count": null,
   "metadata": {},
   "outputs": [],
   "source": [
    "df"
   ]
  },
  {
   "cell_type": "code",
   "execution_count": null,
   "metadata": {},
   "outputs": [],
   "source": [
    "import csv\n",
    "f = open('C:/Users/Playdata/Desktop/sentence_END/end1.csv', 'w', encoding='utf-8', newline='')\n",
    "for i in range(315):\n",
    "    wr = csv.writer(f)\n",
    "    wr.writerow([df.iloc[i,0].strip()])\n",
    "    if '/' in df.iloc[i,2]:\n",
    "        pre = df.iloc[i,2].split('/')\n",
    "        for j in pre:\n",
    "            if j!='':\n",
    "                wr.writerow([j.strip()])\n",
    "            else:\n",
    "                continue\n",
    "    else:\n",
    "        if df.iloc[i,2]!='':\n",
    "            wr.writerow([df.iloc[i,2].strip()])\n",
    "        else:\n",
    "            continue\n",
    "f.close()"
   ]
  },
  {
   "cell_type": "code",
   "execution_count": null,
   "metadata": {},
   "outputs": [],
   "source": [
    "('/호수까/호숟까').split('/')"
   ]
  },
  {
   "cell_type": "code",
   "execution_count": null,
   "metadata": {},
   "outputs": [],
   "source": [
    "df.iloc[i,0].strip()"
   ]
  },
  {
   "cell_type": "code",
   "execution_count": null,
   "metadata": {},
   "outputs": [],
   "source": []
  }
 ],
 "metadata": {
  "kernelspec": {
   "display_name": "Python 3",
   "language": "python",
   "name": "python3"
  },
  "language_info": {
   "codemirror_mode": {
    "name": "ipython",
    "version": 3
   },
   "file_extension": ".py",
   "mimetype": "text/x-python",
   "name": "python",
   "nbconvert_exporter": "python",
   "pygments_lexer": "ipython3",
   "version": "3.6.5"
  }
 },
 "nbformat": 4,
 "nbformat_minor": 2
}
